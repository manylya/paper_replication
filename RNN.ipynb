{
 "cells": [
  {
   "cell_type": "code",
   "execution_count": 81,
   "metadata": {},
   "outputs": [
    {
     "name": "stdout",
     "output_type": "stream",
     "text": [
      "./kaggle/input/training.csv\n",
      "./kaggle/input/solution.csv\n",
      "./kaggle/input/higgs_boson_data.csv\n",
      "./kaggle/input/random_submission.csv\n",
      "./kaggle/input/test.csv\n",
      "./kaggle/input/HiggsBosonCompetition_AMSMetric_rev1.py\n",
      "./kaggle/input/data_splitter.py\n"
     ]
    }
   ],
   "source": [
    "import numpy as np # linear algebra\n",
    "import pandas as pd # data processing, CSV file I/O (e.g. pd.read_csv)\n",
    "import os\n",
    "for dirname, _, filenames in os.walk('./kaggle/input'):\n",
    "    for filename in filenames:\n",
    "        print(os.path.join(dirname, filename))"
   ]
  },
  {
   "cell_type": "code",
   "execution_count": 28,
   "metadata": {},
   "outputs": [
    {
     "name": "stdout",
     "output_type": "stream",
     "text": [
      "Collecting keras==2.15.0\n",
      "  Obtaining dependency information for keras==2.15.0 from https://files.pythonhosted.org/packages/fc/a7/0d4490de967a67f68a538cc9cdb259bff971c4b5787f7765dc7c8f118f71/keras-2.15.0-py3-none-any.whl.metadata\n",
      "  Downloading keras-2.15.0-py3-none-any.whl.metadata (2.4 kB)\n",
      "Downloading keras-2.15.0-py3-none-any.whl (1.7 MB)\n",
      "\u001b[2K   \u001b[90m━━━━━━━━━━━━━━━━━━━━━━━━━━━━━━━━━━━━━━━━\u001b[0m \u001b[32m1.7/1.7 MB\u001b[0m \u001b[31m4.5 MB/s\u001b[0m eta \u001b[36m0:00:00\u001b[0m00:01\u001b[0m00:01\u001b[0m\n",
      "\u001b[?25hInstalling collected packages: keras\n",
      "  Attempting uninstall: keras\n",
      "    Found existing installation: keras 3.6.0\n",
      "    Uninstalling keras-3.6.0:\n",
      "      Successfully uninstalled keras-3.6.0\n",
      "\u001b[31mERROR: pip's dependency resolver does not currently take into account all the packages that are installed. This behaviour is the source of the following dependency conflicts.\n",
      "tensorflow 2.16.2 requires keras>=3.0.0, but you have keras 2.15.0 which is incompatible.\u001b[0m\u001b[31m\n",
      "\u001b[0mSuccessfully installed keras-2.15.0\n",
      "<function version at 0x147fc2660>\n"
     ]
    }
   ],
   "source": [
    "!pip install keras==2.15.0\n",
    "import keras\n",
    "print(keras.version)\n",
    "from tensorflow.keras.callbacks import ModelCheckpoint, ReduceLROnPlateau, EarlyStopping\n",
    "from tensorflow.keras.layers import Input, LSTM, Dense, Concatenate,GRU,Dropout,LeakyReLU\n",
    "from tensorflow.keras.models import Model\n",
    "from tensorflow.keras.callbacks import EarlyStopping\n",
    "from tensorflow.io import FixedLenFeature\n",
    "from tensorflow import keras\n",
    "from tensorflow.keras import layers\n",
    "from tensorflow.keras import callbacks\n",
    "import seaborn as sns\n",
    "import matplotlib.pyplot as plt\n",
    "from sklearn.model_selection import StratifiedShuffleSplit\n",
    "from sklearn.preprocessing import LabelEncoder,OneHotEncoder, normalize"
   ]
  },
  {
   "cell_type": "code",
   "execution_count": 29,
   "metadata": {},
   "outputs": [
    {
     "name": "stdout",
     "output_type": "stream",
     "text": [
      "Tensorflow version 2.16.2\n"
     ]
    }
   ],
   "source": [
    "import tensorflow as tf\n",
    "print(\"Tensorflow version \" + tf.__version__)"
   ]
  },
  {
   "cell_type": "code",
   "execution_count": 30,
   "metadata": {},
   "outputs": [
    {
     "name": "stdout",
     "output_type": "stream",
     "text": [
      "Number of accelerators:  1\n"
     ]
    }
   ],
   "source": [
    "try: \n",
    "     tpu = tf.distribute.cluster_resolver.TPUClusterResolver.connect() # TPU detection\n",
    "     strategy = tf.distribute.TPUStrategy(tpu)\n",
    "except ValueError: # detect GPUs\n",
    "     strategy = tf.distribute.get_strategy() # default strategy that works on CPU and single GPU\n",
    "print(\"Number of accelerators: \", strategy.num_replicas_in_sync)"
   ]
  },
  {
   "cell_type": "code",
   "execution_count": 31,
   "metadata": {},
   "outputs": [],
   "source": [
    "AUTO = tf.data.experimental.AUTOTUNE"
   ]
  },
  {
   "cell_type": "code",
   "execution_count": 32,
   "metadata": {},
   "outputs": [
    {
     "name": "stdout",
     "output_type": "stream",
     "text": [
      "(250000, 33) (550000, 31)\n"
     ]
    }
   ],
   "source": [
    "train_df = pd.read_csv('./kaggle/input/training.csv')\n",
    "test_df = pd.read_csv('./kaggle/input/test.csv')\n",
    "\n",
    "print(train_df.shape,test_df.shape)"
   ]
  },
  {
   "cell_type": "code",
   "execution_count": 33,
   "metadata": {},
   "outputs": [
    {
     "data": {
      "text/plain": [
       "['Label', 'Weight']"
      ]
     },
     "execution_count": 33,
     "metadata": {},
     "output_type": "execute_result"
    }
   ],
   "source": [
    "list(set(train_df.columns ) - set(test_df.columns))"
   ]
  },
  {
   "cell_type": "code",
   "execution_count": 34,
   "metadata": {},
   "outputs": [],
   "source": [
    "train_df.drop(['Weight'], axis=1,inplace=True)"
   ]
  },
  {
   "cell_type": "code",
   "execution_count": 35,
   "metadata": {},
   "outputs": [
    {
     "data": {
      "image/png": "[encoded data removed]",
      "text/plain": [
       "<Figure size 640x480 with 1 Axes>"
      ]
     },
     "metadata": {},
     "output_type": "display_data"
    }
   ],
   "source": [
    "sns.barplot(x = train_df['Label'].value_counts().index, y = train_df['Label'].value_counts().values)\n",
    "plt.title('Label counts')\n",
    "plt.show()"
   ]
  },
  {
   "cell_type": "code",
   "execution_count": 36,
   "metadata": {},
   "outputs": [
    {
     "data": {
      "text/html": [
       "<div>\n",
       "<style scoped>\n",
       "    .dataframe tbody tr th:only-of-type {\n",
       "        vertical-align: middle;\n",
       "    }\n",
       "\n",
       "    .dataframe tbody tr th {\n",
       "        vertical-align: top;\n",
       "    }\n",
       "\n",
       "    .dataframe thead th {\n",
       "        text-align: right;\n",
       "    }\n",
       "</style>\n",
       "<table border=\"1\" class=\"dataframe\">\n",
       "  <thead>\n",
       "    <tr style=\"text-align: right;\">\n",
       "      <th></th>\n",
       "      <th>EventId</th>\n",
       "      <th>DER_mass_MMC</th>\n",
       "      <th>DER_mass_transverse_met_lep</th>\n",
       "      <th>DER_mass_vis</th>\n",
       "      <th>DER_pt_h</th>\n",
       "      <th>DER_deltaeta_jet_jet</th>\n",
       "      <th>DER_mass_jet_jet</th>\n",
       "      <th>DER_prodeta_jet_jet</th>\n",
       "      <th>DER_deltar_tau_lep</th>\n",
       "      <th>DER_pt_tot</th>\n",
       "      <th>...</th>\n",
       "      <th>PRI_met_sumet</th>\n",
       "      <th>PRI_jet_num</th>\n",
       "      <th>PRI_jet_leading_pt</th>\n",
       "      <th>PRI_jet_leading_eta</th>\n",
       "      <th>PRI_jet_leading_phi</th>\n",
       "      <th>PRI_jet_subleading_pt</th>\n",
       "      <th>PRI_jet_subleading_eta</th>\n",
       "      <th>PRI_jet_subleading_phi</th>\n",
       "      <th>PRI_jet_all_pt</th>\n",
       "      <th>Label</th>\n",
       "    </tr>\n",
       "  </thead>\n",
       "  <tbody>\n",
       "    <tr>\n",
       "      <th>0</th>\n",
       "      <td>100000</td>\n",
       "      <td>138.470</td>\n",
       "      <td>51.655</td>\n",
       "      <td>97.827</td>\n",
       "      <td>27.980</td>\n",
       "      <td>0.91</td>\n",
       "      <td>124.711</td>\n",
       "      <td>2.666</td>\n",
       "      <td>3.064</td>\n",
       "      <td>41.928</td>\n",
       "      <td>...</td>\n",
       "      <td>258.733</td>\n",
       "      <td>2</td>\n",
       "      <td>67.435</td>\n",
       "      <td>2.150</td>\n",
       "      <td>0.444</td>\n",
       "      <td>46.062</td>\n",
       "      <td>1.24</td>\n",
       "      <td>-2.475</td>\n",
       "      <td>113.497</td>\n",
       "      <td>1</td>\n",
       "    </tr>\n",
       "    <tr>\n",
       "      <th>1</th>\n",
       "      <td>100001</td>\n",
       "      <td>160.937</td>\n",
       "      <td>68.768</td>\n",
       "      <td>103.235</td>\n",
       "      <td>48.146</td>\n",
       "      <td>-999.00</td>\n",
       "      <td>-999.000</td>\n",
       "      <td>-999.000</td>\n",
       "      <td>3.473</td>\n",
       "      <td>2.078</td>\n",
       "      <td>...</td>\n",
       "      <td>164.546</td>\n",
       "      <td>1</td>\n",
       "      <td>46.226</td>\n",
       "      <td>0.725</td>\n",
       "      <td>1.158</td>\n",
       "      <td>-999.000</td>\n",
       "      <td>-999.00</td>\n",
       "      <td>-999.000</td>\n",
       "      <td>46.226</td>\n",
       "      <td>0</td>\n",
       "    </tr>\n",
       "    <tr>\n",
       "      <th>2</th>\n",
       "      <td>100002</td>\n",
       "      <td>-999.000</td>\n",
       "      <td>162.172</td>\n",
       "      <td>125.953</td>\n",
       "      <td>35.635</td>\n",
       "      <td>-999.00</td>\n",
       "      <td>-999.000</td>\n",
       "      <td>-999.000</td>\n",
       "      <td>3.148</td>\n",
       "      <td>9.336</td>\n",
       "      <td>...</td>\n",
       "      <td>260.414</td>\n",
       "      <td>1</td>\n",
       "      <td>44.251</td>\n",
       "      <td>2.053</td>\n",
       "      <td>-2.028</td>\n",
       "      <td>-999.000</td>\n",
       "      <td>-999.00</td>\n",
       "      <td>-999.000</td>\n",
       "      <td>44.251</td>\n",
       "      <td>0</td>\n",
       "    </tr>\n",
       "    <tr>\n",
       "      <th>3</th>\n",
       "      <td>100003</td>\n",
       "      <td>143.905</td>\n",
       "      <td>81.417</td>\n",
       "      <td>80.943</td>\n",
       "      <td>0.414</td>\n",
       "      <td>-999.00</td>\n",
       "      <td>-999.000</td>\n",
       "      <td>-999.000</td>\n",
       "      <td>3.310</td>\n",
       "      <td>0.414</td>\n",
       "      <td>...</td>\n",
       "      <td>86.062</td>\n",
       "      <td>0</td>\n",
       "      <td>-999.000</td>\n",
       "      <td>-999.000</td>\n",
       "      <td>-999.000</td>\n",
       "      <td>-999.000</td>\n",
       "      <td>-999.00</td>\n",
       "      <td>-999.000</td>\n",
       "      <td>-0.000</td>\n",
       "      <td>0</td>\n",
       "    </tr>\n",
       "    <tr>\n",
       "      <th>4</th>\n",
       "      <td>100004</td>\n",
       "      <td>175.864</td>\n",
       "      <td>16.915</td>\n",
       "      <td>134.805</td>\n",
       "      <td>16.405</td>\n",
       "      <td>-999.00</td>\n",
       "      <td>-999.000</td>\n",
       "      <td>-999.000</td>\n",
       "      <td>3.891</td>\n",
       "      <td>16.405</td>\n",
       "      <td>...</td>\n",
       "      <td>53.131</td>\n",
       "      <td>0</td>\n",
       "      <td>-999.000</td>\n",
       "      <td>-999.000</td>\n",
       "      <td>-999.000</td>\n",
       "      <td>-999.000</td>\n",
       "      <td>-999.00</td>\n",
       "      <td>-999.000</td>\n",
       "      <td>0.000</td>\n",
       "      <td>0</td>\n",
       "    </tr>\n",
       "  </tbody>\n",
       "</table>\n",
       "<p>5 rows × 32 columns</p>\n",
       "</div>"
      ],
      "text/plain": [
       "   EventId  DER_mass_MMC  DER_mass_transverse_met_lep  DER_mass_vis  DER_pt_h  \\\n",
       "0   100000       138.470                       51.655        97.827    27.980   \n",
       "1   100001       160.937                       68.768       103.235    48.146   \n",
       "2   100002      -999.000                      162.172       125.953    35.635   \n",
       "3   100003       143.905                       81.417        80.943     0.414   \n",
       "4   100004       175.864                       16.915       134.805    16.405   \n",
       "\n",
       "   DER_deltaeta_jet_jet  DER_mass_jet_jet  DER_prodeta_jet_jet  \\\n",
       "0                  0.91           124.711                2.666   \n",
       "1               -999.00          -999.000             -999.000   \n",
       "2               -999.00          -999.000             -999.000   \n",
       "3               -999.00          -999.000             -999.000   \n",
       "4               -999.00          -999.000             -999.000   \n",
       "\n",
       "   DER_deltar_tau_lep  DER_pt_tot  ...  PRI_met_sumet  PRI_jet_num  \\\n",
       "0               3.064      41.928  ...        258.733            2   \n",
       "1               3.473       2.078  ...        164.546            1   \n",
       "2               3.148       9.336  ...        260.414            1   \n",
       "3               3.310       0.414  ...         86.062            0   \n",
       "4               3.891      16.405  ...         53.131            0   \n",
       "\n",
       "   PRI_jet_leading_pt  PRI_jet_leading_eta  PRI_jet_leading_phi  \\\n",
       "0              67.435                2.150                0.444   \n",
       "1              46.226                0.725                1.158   \n",
       "2              44.251                2.053               -2.028   \n",
       "3            -999.000             -999.000             -999.000   \n",
       "4            -999.000             -999.000             -999.000   \n",
       "\n",
       "   PRI_jet_subleading_pt  PRI_jet_subleading_eta  PRI_jet_subleading_phi  \\\n",
       "0                 46.062                    1.24                  -2.475   \n",
       "1               -999.000                 -999.00                -999.000   \n",
       "2               -999.000                 -999.00                -999.000   \n",
       "3               -999.000                 -999.00                -999.000   \n",
       "4               -999.000                 -999.00                -999.000   \n",
       "\n",
       "   PRI_jet_all_pt  Label  \n",
       "0         113.497      1  \n",
       "1          46.226      0  \n",
       "2          44.251      0  \n",
       "3          -0.000      0  \n",
       "4           0.000      0  \n",
       "\n",
       "[5 rows x 32 columns]"
      ]
     },
     "execution_count": 36,
     "metadata": {},
     "output_type": "execute_result"
    }
   ],
   "source": [
    "enc = LabelEncoder()\n",
    "\n",
    "train_df['Label'] = enc.fit_transform(train_df['Label'])\n",
    "train_df.head()"
   ]
  },
  {
   "cell_type": "code",
   "execution_count": 37,
   "metadata": {},
   "outputs": [],
   "source": [
    "train_df.set_index(['EventId'],inplace = True)\n",
    "test_df.set_index(['EventId'],inplace = True)"
   ]
  },
  {
   "cell_type": "code",
   "execution_count": 38,
   "metadata": {},
   "outputs": [],
   "source": [
    "X = train_df.drop(['Label'], axis=1)\n",
    "y = train_df['Label'].values"
   ]
  },
  {
   "cell_type": "code",
   "execution_count": 39,
   "metadata": {},
   "outputs": [],
   "source": [
    "X = normalize(X)\n",
    "test_df_nor = normalize(test_df)"
   ]
  },
  {
   "cell_type": "code",
   "execution_count": 40,
   "metadata": {},
   "outputs": [],
   "source": [
    "splitter=StratifiedShuffleSplit(n_splits=1,random_state=12)\n",
    "\n",
    "for train,test in splitter.split(X,y):     #this will splits the index\n",
    "    X_train_SS = X[train]\n",
    "    y_train_SS = y[train]\n",
    "    X_test_SS = X[test]\n",
    "    y_test_SS = y[test]"
   ]
  },
  {
   "cell_type": "code",
   "execution_count": 41,
   "metadata": {},
   "outputs": [],
   "source": [
    "# reshape for rnn\n",
    "X_train_SS = np.reshape(X_train_SS, (X_train_SS.shape[0],X_train_SS.shape[1],1))\n",
    "X_test_SS = np.reshape(X_test_SS, (X_test_SS.shape[0],X_test_SS.shape[1],1))"
   ]
  },
  {
   "cell_type": "code",
   "execution_count": 42,
   "metadata": {},
   "outputs": [
    {
     "data": {
      "text/plain": [
       "1"
      ]
     },
     "execution_count": 42,
     "metadata": {},
     "output_type": "execute_result"
    }
   ],
   "source": [
    "X_train_SS.shape[2]"
   ]
  },
  {
   "cell_type": "code",
   "execution_count": 61,
   "metadata": {},
   "outputs": [],
   "source": [
    "def build_Lstm_model(train_x,train_y,test_x,test_y):\n",
    "    inp = Input(shape=(train_x.shape[1],train_x.shape[2]))\n",
    "    rnn_1st_model = LSTM(units=60, return_sequences=True,recurrent_dropout=0.1)(inp)\n",
    "    rnn_2nd_model = LSTM(units=60,recurrent_dropout=0.1)(rnn_1st_model)\n",
    "    dense_layer = Dense(128)(rnn_2nd_model)\n",
    "    drop_out = Dropout(0.2)(dense_layer)\n",
    "    output = Dense(1, activation= LeakyReLU(alpha=0.1),name=\"class\")(drop_out)\n",
    "    model = Model(inp, output)\n",
    "    callbacks = [ReduceLROnPlateau(monitor='val_loss', patience=4, verbose=1, factor=0.6),\n",
    "                 EarlyStopping(monitor='val_loss', patience=20),\n",
    "                 ModelCheckpoint(filepath='best_model_LSTM.h5.keras', monitor='val_loss', save_best_only=True)]\n",
    "    model.summary()\n",
    "    model.compile(loss=[tf.keras.losses.MeanSquaredLogarithmicError()],\n",
    "                        metrics=[tf.keras.losses.MeanSquaredLogarithmicError()], optimizer=\"adam\")\n",
    "    history = model.fit(train_x, train_y, \n",
    "          epochs = 20, \n",
    "          batch_size = 128, \n",
    "          validation_data=(test_x,  test_y), \n",
    "          callbacks=callbacks)\n",
    "    return history,model"
   ]
  },
  {
   "cell_type": "code",
   "execution_count": 78,
   "metadata": {},
   "outputs": [],
   "source": [
    "def build_Gru_model(train_x,train_y,test_x,test_y):\n",
    "    inp = Input(shape=(train_x.shape[1],train_x.shape[2]))\n",
    "    rnn_1st_model = GRU(units=60, return_sequences=True,recurrent_dropout=0.1)(inp)\n",
    "    rnn_2nd_model = GRU(units=60,recurrent_dropout=0.1)(rnn_1st_model)\n",
    "    dense_layer = Dense(128)(rnn_2nd_model)\n",
    "    drop_out = Dropout(0.25)(dense_layer)\n",
    "    output = Dense(1, activation= LeakyReLU(alpha=0.1),name=\"class\")(drop_out)\n",
    "    model = Model(inp, output)\n",
    "    callbacks = [ReduceLROnPlateau(monitor='val_loss', patience=4, verbose=1, factor=0.6),\n",
    "                 EarlyStopping(monitor='val_loss', patience=20),\n",
    "                 ModelCheckpoint(filepath='best_model_GRU.keras', monitor='val_loss', save_best_only=True)]\n",
    "    model.summary()\n",
    "    model.compile(loss=[tf.keras.losses.MeanSquaredLogarithmicError()],\n",
    "                        metrics=[tf.keras.losses.MeanSquaredLogarithmicError()], optimizer=\"adam\")\n",
    "    history = model.fit(train_x, train_y, \n",
    "          epochs = 20, \n",
    "          batch_size = 128, \n",
    "          validation_data=(test_x,  test_y), \n",
    "          callbacks=callbacks)\n",
    "    return history,model"
   ]
  },
  {
   "cell_type": "code",
   "execution_count": 74,
   "metadata": {},
   "outputs": [],
   "source": [
    "def plot_Loss(history):\n",
    "    plt.plot(history.history['loss'])\n",
    "    plt.plot(history.history['val_loss'])\n",
    "    plt.title('Loss over epochs')\n",
    "    plt.ylabel('Loss')\n",
    "    plt.xlabel('Epoch')\n",
    "    plt.legend(['Train', 'Validation'], loc='best')\n",
    "    plt.show()\n",
    "    for idx, value in enumerate(history.history['loss']):\n",
    "        print(f\"Epoch {idx + 1}: Loss = {value}\")\n",
    "    print('validation: \\n')\n",
    "    for idx, value in enumerate(history.history['val_loss']):\n",
    "        print(f\"Epoch {idx + 1}: Loss = {value}\")\n"
   ]
  },
  {
   "cell_type": "code",
   "execution_count": 69,
   "metadata": {},
   "outputs": [],
   "source": [
    "def Save_Result_To_Csv(model,model_name,csv_file):\n",
    "    test_pre = np.reshape(test_df_nor, (test_df_nor.shape[0],test_df_nor.shape[1],1))\n",
    "    model.load_weights(model_name)\n",
    "    prediction = model.predict(test_pre)\n",
    "    prediction =  np.where(prediction > 0.5, 1, 0)\n",
    "    prediction = pd.Series(prediction[:,0])\n",
    "    sub = pd.read_csv('./kaggle/input/random_submission.csv')\n",
    "    test_predict = pd.DataFrame({\"EventId\":sub['EventId'],\"RankOrder\":sub['RankOrder'],\"Class\":prediction})\n",
    "    test_predict['Class'] = test_predict['Class'].replace(1,'s')\n",
    "    test_predict['Class'] = test_predict['Class'].replace(0,'b')\n",
    "    test_predict.to_csv(csv_file,index=False)"
   ]
  },
  {
   "cell_type": "code",
   "execution_count": 65,
   "metadata": {},
   "outputs": [
    {
     "data": {
      "text/html": [
       "<pre style=\"white-space:pre;overflow-x:auto;line-height:normal;font-family:Menlo,'DejaVu Sans Mono',consolas,'Courier New',monospace\"><span style=\"font-weight: bold\">Model: \"functional_6\"</span>\n",
       "</pre>\n"
      ],
      "text/plain": [
       "\u001b[1mModel: \"functional_6\"\u001b[0m\n"
      ]
     },
     "metadata": {},
     "output_type": "display_data"
    },
    {
     "data": {
      "text/html": [
       "<pre style=\"white-space:pre;overflow-x:auto;line-height:normal;font-family:Menlo,'DejaVu Sans Mono',consolas,'Courier New',monospace\">┏━━━━━━━━━━━━━━━━━━━━━━━━━━━━━━━━━┳━━━━━━━━━━━━━━━━━━━━━━━━┳━━━━━━━━━━━━━━━┓\n",
       "┃<span style=\"font-weight: bold\"> Layer (type)                    </span>┃<span style=\"font-weight: bold\"> Output Shape           </span>┃<span style=\"font-weight: bold\">       Param # </span>┃\n",
       "┡━━━━━━━━━━━━━━━━━━━━━━━━━━━━━━━━━╇━━━━━━━━━━━━━━━━━━━━━━━━╇━━━━━━━━━━━━━━━┩\n",
       "│ input_layer_6 (<span style=\"color: #0087ff; text-decoration-color: #0087ff\">InputLayer</span>)      │ (<span style=\"color: #00d7ff; text-decoration-color: #00d7ff\">None</span>, <span style=\"color: #00af00; text-decoration-color: #00af00\">30</span>, <span style=\"color: #00af00; text-decoration-color: #00af00\">1</span>)          │             <span style=\"color: #00af00; text-decoration-color: #00af00\">0</span> │\n",
       "├─────────────────────────────────┼────────────────────────┼───────────────┤\n",
       "│ lstm_12 (<span style=\"color: #0087ff; text-decoration-color: #0087ff\">LSTM</span>)                  │ (<span style=\"color: #00d7ff; text-decoration-color: #00d7ff\">None</span>, <span style=\"color: #00af00; text-decoration-color: #00af00\">30</span>, <span style=\"color: #00af00; text-decoration-color: #00af00\">60</span>)         │        <span style=\"color: #00af00; text-decoration-color: #00af00\">14,880</span> │\n",
       "├─────────────────────────────────┼────────────────────────┼───────────────┤\n",
       "│ lstm_13 (<span style=\"color: #0087ff; text-decoration-color: #0087ff\">LSTM</span>)                  │ (<span style=\"color: #00d7ff; text-decoration-color: #00d7ff\">None</span>, <span style=\"color: #00af00; text-decoration-color: #00af00\">60</span>)             │        <span style=\"color: #00af00; text-decoration-color: #00af00\">29,040</span> │\n",
       "├─────────────────────────────────┼────────────────────────┼───────────────┤\n",
       "│ dense_6 (<span style=\"color: #0087ff; text-decoration-color: #0087ff\">Dense</span>)                 │ (<span style=\"color: #00d7ff; text-decoration-color: #00d7ff\">None</span>, <span style=\"color: #00af00; text-decoration-color: #00af00\">128</span>)            │         <span style=\"color: #00af00; text-decoration-color: #00af00\">7,808</span> │\n",
       "├─────────────────────────────────┼────────────────────────┼───────────────┤\n",
       "│ dropout_6 (<span style=\"color: #0087ff; text-decoration-color: #0087ff\">Dropout</span>)             │ (<span style=\"color: #00d7ff; text-decoration-color: #00d7ff\">None</span>, <span style=\"color: #00af00; text-decoration-color: #00af00\">128</span>)            │             <span style=\"color: #00af00; text-decoration-color: #00af00\">0</span> │\n",
       "├─────────────────────────────────┼────────────────────────┼───────────────┤\n",
       "│ class (<span style=\"color: #0087ff; text-decoration-color: #0087ff\">Dense</span>)                   │ (<span style=\"color: #00d7ff; text-decoration-color: #00d7ff\">None</span>, <span style=\"color: #00af00; text-decoration-color: #00af00\">1</span>)              │           <span style=\"color: #00af00; text-decoration-color: #00af00\">129</span> │\n",
       "└─────────────────────────────────┴────────────────────────┴───────────────┘\n",
       "</pre>\n"
      ],
      "text/plain": [
       "┏━━━━━━━━━━━━━━━━━━━━━━━━━━━━━━━━━┳━━━━━━━━━━━━━━━━━━━━━━━━┳━━━━━━━━━━━━━━━┓\n",
       "┃\u001b[1m \u001b[0m\u001b[1mLayer (type)                   \u001b[0m\u001b[1m \u001b[0m┃\u001b[1m \u001b[0m\u001b[1mOutput Shape          \u001b[0m\u001b[1m \u001b[0m┃\u001b[1m \u001b[0m\u001b[1m      Param #\u001b[0m\u001b[1m \u001b[0m┃\n",
       "┡━━━━━━━━━━━━━━━━━━━━━━━━━━━━━━━━━╇━━━━━━━━━━━━━━━━━━━━━━━━╇━━━━━━━━━━━━━━━┩\n",
       "│ input_layer_6 (\u001b[38;5;33mInputLayer\u001b[0m)      │ (\u001b[38;5;45mNone\u001b[0m, \u001b[38;5;34m30\u001b[0m, \u001b[38;5;34m1\u001b[0m)          │             \u001b[38;5;34m0\u001b[0m │\n",
       "├─────────────────────────────────┼────────────────────────┼───────────────┤\n",
       "│ lstm_12 (\u001b[38;5;33mLSTM\u001b[0m)                  │ (\u001b[38;5;45mNone\u001b[0m, \u001b[38;5;34m30\u001b[0m, \u001b[38;5;34m60\u001b[0m)         │        \u001b[38;5;34m14,880\u001b[0m │\n",
       "├─────────────────────────────────┼────────────────────────┼───────────────┤\n",
       "│ lstm_13 (\u001b[38;5;33mLSTM\u001b[0m)                  │ (\u001b[38;5;45mNone\u001b[0m, \u001b[38;5;34m60\u001b[0m)             │        \u001b[38;5;34m29,040\u001b[0m │\n",
       "├─────────────────────────────────┼────────────────────────┼───────────────┤\n",
       "│ dense_6 (\u001b[38;5;33mDense\u001b[0m)                 │ (\u001b[38;5;45mNone\u001b[0m, \u001b[38;5;34m128\u001b[0m)            │         \u001b[38;5;34m7,808\u001b[0m │\n",
       "├─────────────────────────────────┼────────────────────────┼───────────────┤\n",
       "│ dropout_6 (\u001b[38;5;33mDropout\u001b[0m)             │ (\u001b[38;5;45mNone\u001b[0m, \u001b[38;5;34m128\u001b[0m)            │             \u001b[38;5;34m0\u001b[0m │\n",
       "├─────────────────────────────────┼────────────────────────┼───────────────┤\n",
       "│ class (\u001b[38;5;33mDense\u001b[0m)                   │ (\u001b[38;5;45mNone\u001b[0m, \u001b[38;5;34m1\u001b[0m)              │           \u001b[38;5;34m129\u001b[0m │\n",
       "└─────────────────────────────────┴────────────────────────┴───────────────┘\n"
      ]
     },
     "metadata": {},
     "output_type": "display_data"
    },
    {
     "data": {
      "text/html": [
       "<pre style=\"white-space:pre;overflow-x:auto;line-height:normal;font-family:Menlo,'DejaVu Sans Mono',consolas,'Courier New',monospace\"><span style=\"font-weight: bold\"> Total params: </span><span style=\"color: #00af00; text-decoration-color: #00af00\">51,857</span> (202.57 KB)\n",
       "</pre>\n"
      ],
      "text/plain": [
       "\u001b[1m Total params: \u001b[0m\u001b[38;5;34m51,857\u001b[0m (202.57 KB)\n"
      ]
     },
     "metadata": {},
     "output_type": "display_data"
    },
    {
     "data": {
      "text/html": [
       "<pre style=\"white-space:pre;overflow-x:auto;line-height:normal;font-family:Menlo,'DejaVu Sans Mono',consolas,'Courier New',monospace\"><span style=\"font-weight: bold\"> Trainable params: </span><span style=\"color: #00af00; text-decoration-color: #00af00\">51,857</span> (202.57 KB)\n",
       "</pre>\n"
      ],
      "text/plain": [
       "\u001b[1m Trainable params: \u001b[0m\u001b[38;5;34m51,857\u001b[0m (202.57 KB)\n"
      ]
     },
     "metadata": {},
     "output_type": "display_data"
    },
    {
     "data": {
      "text/html": [
       "<pre style=\"white-space:pre;overflow-x:auto;line-height:normal;font-family:Menlo,'DejaVu Sans Mono',consolas,'Courier New',monospace\"><span style=\"font-weight: bold\"> Non-trainable params: </span><span style=\"color: #00af00; text-decoration-color: #00af00\">0</span> (0.00 B)\n",
       "</pre>\n"
      ],
      "text/plain": [
       "\u001b[1m Non-trainable params: \u001b[0m\u001b[38;5;34m0\u001b[0m (0.00 B)\n"
      ]
     },
     "metadata": {},
     "output_type": "display_data"
    },
    {
     "name": "stdout",
     "output_type": "stream",
     "text": [
      "Epoch 1/20\n",
      "\u001b[1m1758/1758\u001b[0m \u001b[32m━━━━━━━━━━━━━━━━━━━━\u001b[0m\u001b[37m\u001b[0m \u001b[1m85s\u001b[0m 46ms/step - loss: 0.1083 - mean_squared_logarithmic_error: 0.1083 - val_loss: 0.1311 - val_mean_squared_logarithmic_error: 0.1310 - learning_rate: 0.0010\n",
      "Epoch 2/20\n",
      "\u001b[1m1758/1758\u001b[0m \u001b[32m━━━━━━━━━━━━━━━━━━━━\u001b[0m\u001b[37m\u001b[0m \u001b[1m70s\u001b[0m 40ms/step - loss: 0.1333 - mean_squared_logarithmic_error: 0.1333 - val_loss: 0.1291 - val_mean_squared_logarithmic_error: 0.1289 - learning_rate: 0.0010\n",
      "Epoch 3/20\n",
      "\u001b[1m1758/1758\u001b[0m \u001b[32m━━━━━━━━━━━━━━━━━━━━\u001b[0m\u001b[37m\u001b[0m \u001b[1m73s\u001b[0m 41ms/step - loss: 0.1314 - mean_squared_logarithmic_error: 0.1314 - val_loss: 0.1284 - val_mean_squared_logarithmic_error: 0.1283 - learning_rate: 0.0010\n",
      "Epoch 4/20\n",
      "\u001b[1m1758/1758\u001b[0m \u001b[32m━━━━━━━━━━━━━━━━━━━━\u001b[0m\u001b[37m\u001b[0m \u001b[1m78s\u001b[0m 44ms/step - loss: 0.1314 - mean_squared_logarithmic_error: 0.1314 - val_loss: 0.1288 - val_mean_squared_logarithmic_error: 0.1287 - learning_rate: 0.0010\n",
      "Epoch 5/20\n",
      "\u001b[1m1758/1758\u001b[0m \u001b[32m━━━━━━━━━━━━━━━━━━━━\u001b[0m\u001b[37m\u001b[0m \u001b[1m75s\u001b[0m 43ms/step - loss: 0.1234 - mean_squared_logarithmic_error: 0.1234 - val_loss: 0.0948 - val_mean_squared_logarithmic_error: 0.0947 - learning_rate: 0.0010\n",
      "Epoch 6/20\n",
      "\u001b[1m1758/1758\u001b[0m \u001b[32m━━━━━━━━━━━━━━━━━━━━\u001b[0m\u001b[37m\u001b[0m \u001b[1m70s\u001b[0m 40ms/step - loss: 0.0965 - mean_squared_logarithmic_error: 0.0965 - val_loss: 0.0952 - val_mean_squared_logarithmic_error: 0.0951 - learning_rate: 0.0010\n",
      "Epoch 7/20\n",
      "\u001b[1m1758/1758\u001b[0m \u001b[32m━━━━━━━━━━━━━━━━━━━━\u001b[0m\u001b[37m\u001b[0m \u001b[1m67s\u001b[0m 38ms/step - loss: 0.0957 - mean_squared_logarithmic_error: 0.0957 - val_loss: 0.0949 - val_mean_squared_logarithmic_error: 0.0948 - learning_rate: 0.0010\n",
      "Epoch 8/20\n",
      "\u001b[1m1758/1758\u001b[0m \u001b[32m━━━━━━━━━━━━━━━━━━━━\u001b[0m\u001b[37m\u001b[0m \u001b[1m68s\u001b[0m 38ms/step - loss: 0.0955 - mean_squared_logarithmic_error: 0.0955 - val_loss: 0.0944 - val_mean_squared_logarithmic_error: 0.0944 - learning_rate: 0.0010\n",
      "Epoch 9/20\n",
      "\u001b[1m1758/1758\u001b[0m \u001b[32m━━━━━━━━━━━━━━━━━━━━\u001b[0m\u001b[37m\u001b[0m \u001b[1m67s\u001b[0m 38ms/step - loss: 0.0944 - mean_squared_logarithmic_error: 0.0944 - val_loss: 0.0864 - val_mean_squared_logarithmic_error: 0.0863 - learning_rate: 0.0010\n",
      "Epoch 10/20\n",
      "\u001b[1m1758/1758\u001b[0m \u001b[32m━━━━━━━━━━━━━━━━━━━━\u001b[0m\u001b[37m\u001b[0m \u001b[1m72s\u001b[0m 41ms/step - loss: 0.0880 - mean_squared_logarithmic_error: 0.0880 - val_loss: 0.0845 - val_mean_squared_logarithmic_error: 0.0844 - learning_rate: 0.0010\n",
      "Epoch 11/20\n",
      "\u001b[1m1758/1758\u001b[0m \u001b[32m━━━━━━━━━━━━━━━━━━━━\u001b[0m\u001b[37m\u001b[0m \u001b[1m76s\u001b[0m 43ms/step - loss: 0.0856 - mean_squared_logarithmic_error: 0.0856 - val_loss: 0.0883 - val_mean_squared_logarithmic_error: 0.0882 - learning_rate: 0.0010\n",
      "Epoch 12/20\n",
      "\u001b[1m1758/1758\u001b[0m \u001b[32m━━━━━━━━━━━━━━━━━━━━\u001b[0m\u001b[37m\u001b[0m \u001b[1m73s\u001b[0m 42ms/step - loss: 0.0848 - mean_squared_logarithmic_error: 0.0848 - val_loss: 0.0814 - val_mean_squared_logarithmic_error: 0.0813 - learning_rate: 0.0010\n",
      "Epoch 13/20\n",
      "\u001b[1m1758/1758\u001b[0m \u001b[32m━━━━━━━━━━━━━━━━━━━━\u001b[0m\u001b[37m\u001b[0m \u001b[1m69s\u001b[0m 39ms/step - loss: 0.0827 - mean_squared_logarithmic_error: 0.0827 - val_loss: 0.0771 - val_mean_squared_logarithmic_error: 0.0770 - learning_rate: 0.0010\n",
      "Epoch 14/20\n",
      "\u001b[1m1758/1758\u001b[0m \u001b[32m━━━━━━━━━━━━━━━━━━━━\u001b[0m\u001b[37m\u001b[0m \u001b[1m68s\u001b[0m 39ms/step - loss: 0.0784 - mean_squared_logarithmic_error: 0.0784 - val_loss: 0.0729 - val_mean_squared_logarithmic_error: 0.0728 - learning_rate: 0.0010\n",
      "Epoch 15/20\n",
      "\u001b[1m1758/1758\u001b[0m \u001b[32m━━━━━━━━━━━━━━━━━━━━\u001b[0m\u001b[37m\u001b[0m \u001b[1m75s\u001b[0m 43ms/step - loss: 0.0749 - mean_squared_logarithmic_error: 0.0749 - val_loss: 0.0715 - val_mean_squared_logarithmic_error: 0.0714 - learning_rate: 0.0010\n",
      "Epoch 16/20\n",
      "\u001b[1m1758/1758\u001b[0m \u001b[32m━━━━━━━━━━━━━━━━━━━━\u001b[0m\u001b[37m\u001b[0m \u001b[1m72s\u001b[0m 41ms/step - loss: 0.0738 - mean_squared_logarithmic_error: 0.0738 - val_loss: 0.0722 - val_mean_squared_logarithmic_error: 0.0720 - learning_rate: 0.0010\n",
      "Epoch 17/20\n",
      "\u001b[1m1758/1758\u001b[0m \u001b[32m━━━━━━━━━━━━━━━━━━━━\u001b[0m\u001b[37m\u001b[0m \u001b[1m68s\u001b[0m 39ms/step - loss: 0.0730 - mean_squared_logarithmic_error: 0.0730 - val_loss: 0.0706 - val_mean_squared_logarithmic_error: 0.0705 - learning_rate: 0.0010\n",
      "Epoch 18/20\n",
      "\u001b[1m1758/1758\u001b[0m \u001b[32m━━━━━━━━━━━━━━━━━━━━\u001b[0m\u001b[37m\u001b[0m \u001b[1m68s\u001b[0m 38ms/step - loss: 0.0726 - mean_squared_logarithmic_error: 0.0726 - val_loss: 0.0711 - val_mean_squared_logarithmic_error: 0.0710 - learning_rate: 0.0010\n",
      "Epoch 19/20\n",
      "\u001b[1m1758/1758\u001b[0m \u001b[32m━━━━━━━━━━━━━━━━━━━━\u001b[0m\u001b[37m\u001b[0m \u001b[1m68s\u001b[0m 39ms/step - loss: 0.0717 - mean_squared_logarithmic_error: 0.0717 - val_loss: 0.0715 - val_mean_squared_logarithmic_error: 0.0713 - learning_rate: 0.0010\n",
      "Epoch 20/20\n",
      "\u001b[1m1758/1758\u001b[0m \u001b[32m━━━━━━━━━━━━━━━━━━━━\u001b[0m\u001b[37m\u001b[0m \u001b[1m68s\u001b[0m 39ms/step - loss: 0.0722 - mean_squared_logarithmic_error: 0.0722 - val_loss: 0.0709 - val_mean_squared_logarithmic_error: 0.0708 - learning_rate: 0.0010\n"
     ]
    }
   ],
   "source": [
    "history_LSTM,Lstm_model = build_Lstm_model(X_train_SS,y_train_SS,X_test_SS,y_test_SS)"
   ]
  },
  {
   "cell_type": "code",
   "execution_count": 66,
   "metadata": {},
   "outputs": [
    {
     "data": {
      "image/png": "[encoded data removed]",
      "text/plain": [
       "<Figure size 640x480 with 1 Axes>"
      ]
     },
     "metadata": {},
     "output_type": "display_data"
    }
   ],
   "source": [
    "plot_Loss(history_LSTM)"
   ]
  },
  {
   "cell_type": "code",
   "execution_count": 70,
   "metadata": {},
   "outputs": [
    {
     "name": "stdout",
     "output_type": "stream",
     "text": [
      "\u001b[1m17188/17188\u001b[0m \u001b[32m━━━━━━━━━━━━━━━━━━━━\u001b[0m\u001b[37m\u001b[0m \u001b[1m90s\u001b[0m 5ms/step\n"
     ]
    }
   ],
   "source": [
    "Save_Result_To_Csv(Lstm_model,\"best_model_LSTM.h5.keras\",\"submission_LSTM.csv\")"
   ]
  },
  {
   "cell_type": "code",
   "execution_count": 79,
   "metadata": {},
   "outputs": [
    {
     "name": "stderr",
     "output_type": "stream",
     "text": [
      "/Users/manylya/anaconda3/lib/python3.11/site-packages/keras/src/layers/activations/leaky_relu.py:41: UserWarning: Argument `alpha` is deprecated. Use `negative_slope` instead.\n",
      "  warnings.warn(\n"
     ]
    },
    {
     "data": {
      "text/html": [
       "<pre style=\"white-space:pre;overflow-x:auto;line-height:normal;font-family:Menlo,'DejaVu Sans Mono',consolas,'Courier New',monospace\"><span style=\"font-weight: bold\">Model: \"functional_9\"</span>\n",
       "</pre>\n"
      ],
      "text/plain": [
       "\u001b[1mModel: \"functional_9\"\u001b[0m\n"
      ]
     },
     "metadata": {},
     "output_type": "display_data"
    },
    {
     "data": {
      "text/html": [
       "<pre style=\"white-space:pre;overflow-x:auto;line-height:normal;font-family:Menlo,'DejaVu Sans Mono',consolas,'Courier New',monospace\">┏━━━━━━━━━━━━━━━━━━━━━━━━━━━━━━━━━┳━━━━━━━━━━━━━━━━━━━━━━━━┳━━━━━━━━━━━━━━━┓\n",
       "┃<span style=\"font-weight: bold\"> Layer (type)                    </span>┃<span style=\"font-weight: bold\"> Output Shape           </span>┃<span style=\"font-weight: bold\">       Param # </span>┃\n",
       "┡━━━━━━━━━━━━━━━━━━━━━━━━━━━━━━━━━╇━━━━━━━━━━━━━━━━━━━━━━━━╇━━━━━━━━━━━━━━━┩\n",
       "│ input_layer_9 (<span style=\"color: #0087ff; text-decoration-color: #0087ff\">InputLayer</span>)      │ (<span style=\"color: #00d7ff; text-decoration-color: #00d7ff\">None</span>, <span style=\"color: #00af00; text-decoration-color: #00af00\">30</span>, <span style=\"color: #00af00; text-decoration-color: #00af00\">1</span>)          │             <span style=\"color: #00af00; text-decoration-color: #00af00\">0</span> │\n",
       "├─────────────────────────────────┼────────────────────────┼───────────────┤\n",
       "│ gru_4 (<span style=\"color: #0087ff; text-decoration-color: #0087ff\">GRU</span>)                     │ (<span style=\"color: #00d7ff; text-decoration-color: #00d7ff\">None</span>, <span style=\"color: #00af00; text-decoration-color: #00af00\">30</span>, <span style=\"color: #00af00; text-decoration-color: #00af00\">60</span>)         │        <span style=\"color: #00af00; text-decoration-color: #00af00\">11,340</span> │\n",
       "├─────────────────────────────────┼────────────────────────┼───────────────┤\n",
       "│ gru_5 (<span style=\"color: #0087ff; text-decoration-color: #0087ff\">GRU</span>)                     │ (<span style=\"color: #00d7ff; text-decoration-color: #00d7ff\">None</span>, <span style=\"color: #00af00; text-decoration-color: #00af00\">60</span>)             │        <span style=\"color: #00af00; text-decoration-color: #00af00\">21,960</span> │\n",
       "├─────────────────────────────────┼────────────────────────┼───────────────┤\n",
       "│ dense_9 (<span style=\"color: #0087ff; text-decoration-color: #0087ff\">Dense</span>)                 │ (<span style=\"color: #00d7ff; text-decoration-color: #00d7ff\">None</span>, <span style=\"color: #00af00; text-decoration-color: #00af00\">128</span>)            │         <span style=\"color: #00af00; text-decoration-color: #00af00\">7,808</span> │\n",
       "├─────────────────────────────────┼────────────────────────┼───────────────┤\n",
       "│ dropout_9 (<span style=\"color: #0087ff; text-decoration-color: #0087ff\">Dropout</span>)             │ (<span style=\"color: #00d7ff; text-decoration-color: #00d7ff\">None</span>, <span style=\"color: #00af00; text-decoration-color: #00af00\">128</span>)            │             <span style=\"color: #00af00; text-decoration-color: #00af00\">0</span> │\n",
       "├─────────────────────────────────┼────────────────────────┼───────────────┤\n",
       "│ class (<span style=\"color: #0087ff; text-decoration-color: #0087ff\">Dense</span>)                   │ (<span style=\"color: #00d7ff; text-decoration-color: #00d7ff\">None</span>, <span style=\"color: #00af00; text-decoration-color: #00af00\">1</span>)              │           <span style=\"color: #00af00; text-decoration-color: #00af00\">129</span> │\n",
       "└─────────────────────────────────┴────────────────────────┴───────────────┘\n",
       "</pre>\n"
      ],
      "text/plain": [
       "┏━━━━━━━━━━━━━━━━━━━━━━━━━━━━━━━━━┳━━━━━━━━━━━━━━━━━━━━━━━━┳━━━━━━━━━━━━━━━┓\n",
       "┃\u001b[1m \u001b[0m\u001b[1mLayer (type)                   \u001b[0m\u001b[1m \u001b[0m┃\u001b[1m \u001b[0m\u001b[1mOutput Shape          \u001b[0m\u001b[1m \u001b[0m┃\u001b[1m \u001b[0m\u001b[1m      Param #\u001b[0m\u001b[1m \u001b[0m┃\n",
       "┡━━━━━━━━━━━━━━━━━━━━━━━━━━━━━━━━━╇━━━━━━━━━━━━━━━━━━━━━━━━╇━━━━━━━━━━━━━━━┩\n",
       "│ input_layer_9 (\u001b[38;5;33mInputLayer\u001b[0m)      │ (\u001b[38;5;45mNone\u001b[0m, \u001b[38;5;34m30\u001b[0m, \u001b[38;5;34m1\u001b[0m)          │             \u001b[38;5;34m0\u001b[0m │\n",
       "├─────────────────────────────────┼────────────────────────┼───────────────┤\n",
       "│ gru_4 (\u001b[38;5;33mGRU\u001b[0m)                     │ (\u001b[38;5;45mNone\u001b[0m, \u001b[38;5;34m30\u001b[0m, \u001b[38;5;34m60\u001b[0m)         │        \u001b[38;5;34m11,340\u001b[0m │\n",
       "├─────────────────────────────────┼────────────────────────┼───────────────┤\n",
       "│ gru_5 (\u001b[38;5;33mGRU\u001b[0m)                     │ (\u001b[38;5;45mNone\u001b[0m, \u001b[38;5;34m60\u001b[0m)             │        \u001b[38;5;34m21,960\u001b[0m │\n",
       "├─────────────────────────────────┼────────────────────────┼───────────────┤\n",
       "│ dense_9 (\u001b[38;5;33mDense\u001b[0m)                 │ (\u001b[38;5;45mNone\u001b[0m, \u001b[38;5;34m128\u001b[0m)            │         \u001b[38;5;34m7,808\u001b[0m │\n",
       "├─────────────────────────────────┼────────────────────────┼───────────────┤\n",
       "│ dropout_9 (\u001b[38;5;33mDropout\u001b[0m)             │ (\u001b[38;5;45mNone\u001b[0m, \u001b[38;5;34m128\u001b[0m)            │             \u001b[38;5;34m0\u001b[0m │\n",
       "├─────────────────────────────────┼────────────────────────┼───────────────┤\n",
       "│ class (\u001b[38;5;33mDense\u001b[0m)                   │ (\u001b[38;5;45mNone\u001b[0m, \u001b[38;5;34m1\u001b[0m)              │           \u001b[38;5;34m129\u001b[0m │\n",
       "└─────────────────────────────────┴────────────────────────┴───────────────┘\n"
      ]
     },
     "metadata": {},
     "output_type": "display_data"
    },
    {
     "data": {
      "text/html": [
       "<pre style=\"white-space:pre;overflow-x:auto;line-height:normal;font-family:Menlo,'DejaVu Sans Mono',consolas,'Courier New',monospace\"><span style=\"font-weight: bold\"> Total params: </span><span style=\"color: #00af00; text-decoration-color: #00af00\">41,237</span> (161.08 KB)\n",
       "</pre>\n"
      ],
      "text/plain": [
       "\u001b[1m Total params: \u001b[0m\u001b[38;5;34m41,237\u001b[0m (161.08 KB)\n"
      ]
     },
     "metadata": {},
     "output_type": "display_data"
    },
    {
     "data": {
      "text/html": [
       "<pre style=\"white-space:pre;overflow-x:auto;line-height:normal;font-family:Menlo,'DejaVu Sans Mono',consolas,'Courier New',monospace\"><span style=\"font-weight: bold\"> Trainable params: </span><span style=\"color: #00af00; text-decoration-color: #00af00\">41,237</span> (161.08 KB)\n",
       "</pre>\n"
      ],
      "text/plain": [
       "\u001b[1m Trainable params: \u001b[0m\u001b[38;5;34m41,237\u001b[0m (161.08 KB)\n"
      ]
     },
     "metadata": {},
     "output_type": "display_data"
    },
    {
     "data": {
      "text/html": [
       "<pre style=\"white-space:pre;overflow-x:auto;line-height:normal;font-family:Menlo,'DejaVu Sans Mono',consolas,'Courier New',monospace\"><span style=\"font-weight: bold\"> Non-trainable params: </span><span style=\"color: #00af00; text-decoration-color: #00af00\">0</span> (0.00 B)\n",
       "</pre>\n"
      ],
      "text/plain": [
       "\u001b[1m Non-trainable params: \u001b[0m\u001b[38;5;34m0\u001b[0m (0.00 B)\n"
      ]
     },
     "metadata": {},
     "output_type": "display_data"
    },
    {
     "name": "stdout",
     "output_type": "stream",
     "text": [
      "Epoch 1/20\n",
      "\u001b[1m1758/1758\u001b[0m \u001b[32m━━━━━━━━━━━━━━━━━━━━\u001b[0m\u001b[37m\u001b[0m \u001b[1m67s\u001b[0m 34ms/step - loss: 0.1069 - mean_squared_logarithmic_error: 0.1069 - val_loss: 0.1079 - val_mean_squared_logarithmic_error: 0.1078 - learning_rate: 0.0010\n",
      "Epoch 2/20\n",
      "\u001b[1m1758/1758\u001b[0m \u001b[32m━━━━━━━━━━━━━━━━━━━━\u001b[0m\u001b[37m\u001b[0m \u001b[1m61s\u001b[0m 35ms/step - loss: 0.0973 - mean_squared_logarithmic_error: 0.0973 - val_loss: 0.1004 - val_mean_squared_logarithmic_error: 0.1003 - learning_rate: 0.0010\n",
      "Epoch 3/20\n",
      "\u001b[1m1758/1758\u001b[0m \u001b[32m━━━━━━━━━━━━━━━━━━━━\u001b[0m\u001b[37m\u001b[0m \u001b[1m59s\u001b[0m 33ms/step - loss: 0.0950 - mean_squared_logarithmic_error: 0.0950 - val_loss: 0.1186 - val_mean_squared_logarithmic_error: 0.1185 - learning_rate: 0.0010\n",
      "Epoch 4/20\n",
      "\u001b[1m1758/1758\u001b[0m \u001b[32m━━━━━━━━━━━━━━━━━━━━\u001b[0m\u001b[37m\u001b[0m \u001b[1m58s\u001b[0m 33ms/step - loss: 0.0922 - mean_squared_logarithmic_error: 0.0922 - val_loss: 0.1138 - val_mean_squared_logarithmic_error: 0.1137 - learning_rate: 0.0010\n",
      "Epoch 5/20\n",
      "\u001b[1m1758/1758\u001b[0m \u001b[32m━━━━━━━━━━━━━━━━━━━━\u001b[0m\u001b[37m\u001b[0m \u001b[1m61s\u001b[0m 34ms/step - loss: 0.0889 - mean_squared_logarithmic_error: 0.0889 - val_loss: 0.1161 - val_mean_squared_logarithmic_error: 0.1160 - learning_rate: 0.0010\n",
      "Epoch 6/20\n",
      "\u001b[1m1758/1758\u001b[0m \u001b[32m━━━━━━━━━━━━━━━━━━━━\u001b[0m\u001b[37m\u001b[0m \u001b[1m0s\u001b[0m 35ms/step - loss: 0.0869 - mean_squared_logarithmic_error: 0.0869\n",
      "Epoch 6: ReduceLROnPlateau reducing learning rate to 0.0006000000284984708.\n",
      "\u001b[1m1758/1758\u001b[0m \u001b[32m━━━━━━━━━━━━━━━━━━━━\u001b[0m\u001b[37m\u001b[0m \u001b[1m63s\u001b[0m 36ms/step - loss: 0.0869 - mean_squared_logarithmic_error: 0.0869 - val_loss: 0.1092 - val_mean_squared_logarithmic_error: 0.1092 - learning_rate: 0.0010\n",
      "Epoch 7/20\n",
      "\u001b[1m1758/1758\u001b[0m \u001b[32m━━━━━━━━━━━━━━━━━━━━\u001b[0m\u001b[37m\u001b[0m \u001b[1m66s\u001b[0m 37ms/step - loss: 0.0850 - mean_squared_logarithmic_error: 0.0850 - val_loss: 0.1084 - val_mean_squared_logarithmic_error: 0.1083 - learning_rate: 6.0000e-04\n",
      "Epoch 8/20\n",
      "\u001b[1m1758/1758\u001b[0m \u001b[32m━━━━━━━━━━━━━━━━━━━━\u001b[0m\u001b[37m\u001b[0m \u001b[1m60s\u001b[0m 34ms/step - loss: 0.0842 - mean_squared_logarithmic_error: 0.0842 - val_loss: 0.1047 - val_mean_squared_logarithmic_error: 0.1046 - learning_rate: 6.0000e-04\n",
      "Epoch 9/20\n",
      "\u001b[1m1758/1758\u001b[0m \u001b[32m━━━━━━━━━━━━━━━━━━━━\u001b[0m\u001b[37m\u001b[0m \u001b[1m60s\u001b[0m 34ms/step - loss: 0.0835 - mean_squared_logarithmic_error: 0.0835 - val_loss: 0.1051 - val_mean_squared_logarithmic_error: 0.1050 - learning_rate: 6.0000e-04\n",
      "Epoch 10/20\n",
      "\u001b[1m1758/1758\u001b[0m \u001b[32m━━━━━━━━━━━━━━━━━━━━\u001b[0m\u001b[37m\u001b[0m \u001b[1m0s\u001b[0m 34ms/step - loss: 0.0832 - mean_squared_logarithmic_error: 0.0832\n",
      "Epoch 10: ReduceLROnPlateau reducing learning rate to 0.0003600000170990825.\n",
      "\u001b[1m1758/1758\u001b[0m \u001b[32m━━━━━━━━━━━━━━━━━━━━\u001b[0m\u001b[37m\u001b[0m \u001b[1m62s\u001b[0m 35ms/step - loss: 0.0832 - mean_squared_logarithmic_error: 0.0832 - val_loss: 0.1034 - val_mean_squared_logarithmic_error: 0.1033 - learning_rate: 6.0000e-04\n",
      "Epoch 11/20\n",
      "\u001b[1m1758/1758\u001b[0m \u001b[32m━━━━━━━━━━━━━━━━━━━━\u001b[0m\u001b[37m\u001b[0m \u001b[1m63s\u001b[0m 36ms/step - loss: 0.0819 - mean_squared_logarithmic_error: 0.0819 - val_loss: 0.1060 - val_mean_squared_logarithmic_error: 0.1060 - learning_rate: 3.6000e-04\n",
      "Epoch 12/20\n",
      "\u001b[1m1758/1758\u001b[0m \u001b[32m━━━━━━━━━━━━━━━━━━━━\u001b[0m\u001b[37m\u001b[0m \u001b[1m68s\u001b[0m 39ms/step - loss: 0.0813 - mean_squared_logarithmic_error: 0.0813 - val_loss: 0.1095 - val_mean_squared_logarithmic_error: 0.1094 - learning_rate: 3.6000e-04\n",
      "Epoch 13/20\n",
      "\u001b[1m1758/1758\u001b[0m \u001b[32m━━━━━━━━━━━━━━━━━━━━\u001b[0m\u001b[37m\u001b[0m \u001b[1m56s\u001b[0m 32ms/step - loss: 0.0813 - mean_squared_logarithmic_error: 0.0813 - val_loss: 0.1075 - val_mean_squared_logarithmic_error: 0.1074 - learning_rate: 3.6000e-04\n",
      "Epoch 14/20\n",
      "\u001b[1m1757/1758\u001b[0m \u001b[32m━━━━━━━━━━━━━━━━━━━\u001b[0m\u001b[37m━\u001b[0m \u001b[1m0s\u001b[0m 36ms/step - loss: 0.0811 - mean_squared_logarithmic_error: 0.0811\n",
      "Epoch 14: ReduceLROnPlateau reducing learning rate to 0.00021600000327453016.\n",
      "\u001b[1m1758/1758\u001b[0m \u001b[32m━━━━━━━━━━━━━━━━━━━━\u001b[0m\u001b[37m\u001b[0m \u001b[1m66s\u001b[0m 38ms/step - loss: 0.0811 - mean_squared_logarithmic_error: 0.0811 - val_loss: 0.1074 - val_mean_squared_logarithmic_error: 0.1074 - learning_rate: 3.6000e-04\n",
      "Epoch 15/20\n",
      "\u001b[1m1758/1758\u001b[0m \u001b[32m━━━━━━━━━━━━━━━━━━━━\u001b[0m\u001b[37m\u001b[0m \u001b[1m57s\u001b[0m 32ms/step - loss: 0.0804 - mean_squared_logarithmic_error: 0.0804 - val_loss: 0.1088 - val_mean_squared_logarithmic_error: 0.1087 - learning_rate: 2.1600e-04\n",
      "Epoch 16/20\n",
      "\u001b[1m1758/1758\u001b[0m \u001b[32m━━━━━━━━━━━━━━━━━━━━\u001b[0m\u001b[37m\u001b[0m \u001b[1m61s\u001b[0m 34ms/step - loss: 0.0798 - mean_squared_logarithmic_error: 0.0798 - val_loss: 0.1103 - val_mean_squared_logarithmic_error: 0.1102 - learning_rate: 2.1600e-04\n",
      "Epoch 17/20\n",
      "\u001b[1m1758/1758\u001b[0m \u001b[32m━━━━━━━━━━━━━━━━━━━━\u001b[0m\u001b[37m\u001b[0m \u001b[1m60s\u001b[0m 34ms/step - loss: 0.0800 - mean_squared_logarithmic_error: 0.0800 - val_loss: 0.1112 - val_mean_squared_logarithmic_error: 0.1111 - learning_rate: 2.1600e-04\n",
      "Epoch 18/20\n",
      "\u001b[1m1758/1758\u001b[0m \u001b[32m━━━━━━━━━━━━━━━━━━━━\u001b[0m\u001b[37m\u001b[0m \u001b[1m0s\u001b[0m 33ms/step - loss: 0.0797 - mean_squared_logarithmic_error: 0.0797\n",
      "Epoch 18: ReduceLROnPlateau reducing learning rate to 0.00012960000021848827.\n",
      "\u001b[1m1758/1758\u001b[0m \u001b[32m━━━━━━━━━━━━━━━━━━━━\u001b[0m\u001b[37m\u001b[0m \u001b[1m60s\u001b[0m 34ms/step - loss: 0.0797 - mean_squared_logarithmic_error: 0.0797 - val_loss: 0.1107 - val_mean_squared_logarithmic_error: 0.1106 - learning_rate: 2.1600e-04\n",
      "Epoch 19/20\n",
      "\u001b[1m1758/1758\u001b[0m \u001b[32m━━━━━━━━━━━━━━━━━━━━\u001b[0m\u001b[37m\u001b[0m \u001b[1m57s\u001b[0m 32ms/step - loss: 0.0790 - mean_squared_logarithmic_error: 0.0790 - val_loss: 0.1116 - val_mean_squared_logarithmic_error: 0.1115 - learning_rate: 1.2960e-04\n",
      "Epoch 20/20\n",
      "\u001b[1m1758/1758\u001b[0m \u001b[32m━━━━━━━━━━━━━━━━━━━━\u001b[0m\u001b[37m\u001b[0m \u001b[1m57s\u001b[0m 32ms/step - loss: 0.0794 - mean_squared_logarithmic_error: 0.0794 - val_loss: 0.1098 - val_mean_squared_logarithmic_error: 0.1097 - learning_rate: 1.2960e-04\n"
     ]
    }
   ],
   "source": [
    "history_GRU,Gru_model = build_Gru_model(X_train_SS,y_train_SS,X_test_SS,y_test_SS)"
   ]
  },
  {
   "cell_type": "code",
   "execution_count": 75,
   "metadata": {},
   "outputs": [
    {
     "data": {
      "image/png": "[encoded data removed]",
      "text/plain": [
       "<Figure size 640x480 with 1 Axes>"
      ]
     },
     "metadata": {},
     "output_type": "display_data"
    },
    {
     "name": "stdout",
     "output_type": "stream",
     "text": [
      "Epoch 1: Loss = 0.10396737605333328\n",
      "Epoch 2: Loss = 0.09655696153640747\n",
      "Epoch 3: Loss = 0.09396304190158844\n",
      "Epoch 4: Loss = 0.09108354896306992\n",
      "Epoch 5: Loss = 0.08964686095714569\n",
      "Epoch 6: Loss = 0.08807424455881119\n",
      "Epoch 7: Loss = 0.08676357567310333\n",
      "Epoch 8: Loss = 0.08081810921430588\n",
      "Epoch 9: Loss = 0.07590385526418686\n",
      "Epoch 10: Loss = 0.07430195808410645\n",
      "Epoch 11: Loss = 0.07338715344667435\n",
      "Epoch 12: Loss = 0.07278276979923248\n",
      "Epoch 13: Loss = 0.07241928577423096\n",
      "Epoch 14: Loss = 0.07184576243162155\n",
      "Epoch 15: Loss = 0.07157649099826813\n",
      "Epoch 16: Loss = 0.07117054611444473\n",
      "Epoch 17: Loss = 0.07092005759477615\n",
      "Epoch 18: Loss = 0.0708208978176117\n",
      "Epoch 19: Loss = 0.07053440064191818\n",
      "Epoch 20: Loss = 0.0702468752861023\n",
      "validation: \n",
      "\n",
      "Epoch 1: Loss = 0.11299142241477966\n",
      "Epoch 2: Loss = 0.11492328345775604\n",
      "Epoch 3: Loss = 0.11166630685329437\n",
      "Epoch 4: Loss = 0.11403714865446091\n",
      "Epoch 5: Loss = 0.11376107484102249\n",
      "Epoch 6: Loss = 0.11485641449689865\n",
      "Epoch 7: Loss = 0.11901161074638367\n",
      "Epoch 8: Loss = 0.11249573528766632\n",
      "Epoch 9: Loss = 0.1142234206199646\n",
      "Epoch 10: Loss = 0.11320056766271591\n",
      "Epoch 11: Loss = 0.11142438650131226\n",
      "Epoch 12: Loss = 0.11028028279542923\n",
      "Epoch 13: Loss = 0.11149483174085617\n",
      "Epoch 14: Loss = 0.10725221782922745\n",
      "Epoch 15: Loss = 0.10733097791671753\n",
      "Epoch 16: Loss = 0.10781156271696091\n",
      "Epoch 17: Loss = 0.10351204872131348\n",
      "Epoch 18: Loss = 0.1105588972568512\n",
      "Epoch 19: Loss = 0.10899520665407181\n",
      "Epoch 20: Loss = 0.1134643629193306\n"
     ]
    }
   ],
   "source": [
    "plot_Loss(history_GRU)"
   ]
  }
 ],
 "metadata": {
  "kernelspec": {
   "display_name": ".venv",
   "language": "python",
   "name": "python3"
  },
  "language_info": {
   "codemirror_mode": {
    "name": "ipython",
    "version": 3
   },
   "file_extension": ".py",
   "mimetype": "text/x-python",
   "name": "python",
   "nbconvert_exporter": "python",
   "pygments_lexer": "ipython3",
   "version": "3.11.5"
  }
 },
 "nbformat": 4,
 "nbformat_minor": 2
}
